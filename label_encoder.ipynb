{
 "cells": [
  {
   "cell_type": "code",
   "execution_count": 2,
   "id": "34fae108",
   "metadata": {},
   "outputs": [
    {
     "data": {
      "text/plain": [
       "['label_encoder.pkl']"
      ]
     },
     "execution_count": 2,
     "metadata": {},
     "output_type": "execute_result"
    }
   ],
   "source": [
    "from sklearn.preprocessing import LabelEncoder\n",
    "import joblib\n",
    "\n",
    "# Your class labels in the exact order\n",
    "classes = [\n",
    "    'BENIGN', 'Bot', 'DoS GoldenEye', 'DoS Hulk', 'DoS Slowhttptest',\n",
    "    'DoS slowloris', 'FTP-Patator', 'Heartbleed', 'Infiltration',\n",
    "    'PortScan', 'SSH-Patator', 'Web Attack - Brute Force',\n",
    "    'Web Attack - Sql Injection', 'Web Attack - XSS'\n",
    "]\n",
    "\n",
    "# Fit the encoder\n",
    "le = LabelEncoder()\n",
    "le.fit(classes)\n",
    "\n",
    "# Save the object\n",
    "joblib.dump(le, \"label_encoder.pkl\")\n"
   ]
  },
  {
   "cell_type": "code",
   "execution_count": 4,
   "id": "2a18452f",
   "metadata": {},
   "outputs": [
    {
     "name": "stdout",
     "output_type": "stream",
     "text": [
      "Class mappings (label -> number):\n",
      "0: BENIGN\n",
      "1: Bot\n",
      "2: DoS GoldenEye\n",
      "3: DoS Hulk\n",
      "4: DoS Slowhttptest\n",
      "5: DoS slowloris\n",
      "6: FTP-Patator\n",
      "7: Heartbleed\n",
      "8: Infiltration\n",
      "9: PortScan\n",
      "10: SSH-Patator\n",
      "11: Web Attack - Brute Force\n",
      "12: Web Attack - Sql Injection\n",
      "13: Web Attack - XSS\n"
     ]
    }
   ],
   "source": [
    "import joblib\n",
    "\n",
    "label_encoder = joblib.load(\"label_encoder.pkl\")\n",
    "print(\"Class mappings (label -> number):\")\n",
    "for i, cls in enumerate(label_encoder.classes_):\n",
    "    print(f\"{i}: {cls}\")\n"
   ]
  }
 ],
 "metadata": {
  "kernelspec": {
   "display_name": "Python 3",
   "language": "python",
   "name": "python3"
  },
  "language_info": {
   "codemirror_mode": {
    "name": "ipython",
    "version": 3
   },
   "file_extension": ".py",
   "mimetype": "text/x-python",
   "name": "python",
   "nbconvert_exporter": "python",
   "pygments_lexer": "ipython3",
   "version": "3.11.5"
  }
 },
 "nbformat": 4,
 "nbformat_minor": 5
}
