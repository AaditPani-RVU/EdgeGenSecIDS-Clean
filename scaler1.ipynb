{
 "cells": [
  {
   "cell_type": "code",
   "execution_count": 1,
   "id": "c5360f56",
   "metadata": {},
   "outputs": [
    {
     "name": "stdout",
     "output_type": "stream",
     "text": [
      "✅ Loaded dataset: (2639710, 79)\n",
      "✅ Scaler saved as scaler.pkl\n"
     ]
    }
   ],
   "source": [
    "import pandas as pd\n",
    "import numpy as np\n",
    "import os\n",
    "from sklearn.preprocessing import StandardScaler\n",
    "import joblib\n",
    "\n",
    "# === Step 1: Load merged dataset ===\n",
    "DATADIR = r\"C:\\Users\\aadip\\Desktop\\internship\\MachineLearningCSV\\MachineLearningCVE\"\n",
    "csv_path = os.path.join(DATADIR, \"CICIDS2017_Multiclass_Merged.csv\")\n",
    "df = pd.read_csv(csv_path, low_memory=False)\n",
    "print(f\"✅ Loaded dataset: {df.shape}\")\n",
    "\n",
    "# === Step 2: Clean data ===\n",
    "df = df.replace([np.inf, -np.inf], np.nan).dropna()\n",
    "\n",
    "# === Step 3: Remove 'Infiltration' samples (optional) ===\n",
    "df = df[df[' Label'] != 'Infiltration']\n",
    "\n",
    "# === Step 4: Map attack categories (same as before) ===\n",
    "label_mapping = {\n",
    "    'BENIGN': 'BENIGN',\n",
    "    'DoS Hulk': 'DoS',\n",
    "    'DoS GoldenEye': 'DoS',\n",
    "    'DoS slowloris': 'DoS',\n",
    "    'DDoS': 'DDoS',\n",
    "    'PortScan': 'PortScan',\n",
    "    'FTP-Patator': 'BruteForce',\n",
    "    'SSH-Patator': 'BruteForce',\n",
    "    'Web Attack - Brute Force': 'Web Attack',\n",
    "    'Web Attack - XSS': 'Web Attack',\n",
    "    'Web Attack - Sql Injection': 'Web Attack',\n",
    "}\n",
    "df['AttackCategory'] = df[' Label'].map(label_mapping)\n",
    "df = df.dropna(subset=['AttackCategory'])\n",
    "\n",
    "# === Step 5: Feature selection ===\n",
    "X = df.drop(columns=[' Label', 'AttackCategory'])\n",
    "X = X.select_dtypes(include=[np.number])\n",
    "\n",
    "# === Step 6: Fit the scaler ===\n",
    "scaler = StandardScaler()\n",
    "X_scaled = scaler.fit_transform(X)\n",
    "\n",
    "# === Step 7: Save the scaler ===\n",
    "joblib.dump(scaler, \"scaler.pkl\")\n",
    "print(\"✅ Scaler saved as scaler.pkl\")\n"
   ]
  },
  {
   "cell_type": "code",
   "execution_count": 2,
   "id": "c305b7ea",
   "metadata": {},
   "outputs": [
    {
     "data": {
      "text/plain": [
       "['features_list.pkl']"
      ]
     },
     "execution_count": 2,
     "metadata": {},
     "output_type": "execute_result"
    }
   ],
   "source": [
    "import joblib\n",
    "import pandas as pd\n",
    "\n",
    "# From training data\n",
    "df = pd.read_csv(\"CICIDS2017_Multiclass_Merged.csv\", low_memory=False)\n",
    "feature_cols = df.select_dtypes(include='number').columns.tolist()\n",
    "\n",
    "# Save the feature list\n",
    "joblib.dump(feature_cols, \"features_list.pkl\")\n"
   ]
  }
 ],
 "metadata": {
  "kernelspec": {
   "display_name": "Python 3",
   "language": "python",
   "name": "python3"
  },
  "language_info": {
   "codemirror_mode": {
    "name": "ipython",
    "version": 3
   },
   "file_extension": ".py",
   "mimetype": "text/x-python",
   "name": "python",
   "nbconvert_exporter": "python",
   "pygments_lexer": "ipython3",
   "version": "3.11.5"
  }
 },
 "nbformat": 4,
 "nbformat_minor": 5
}
