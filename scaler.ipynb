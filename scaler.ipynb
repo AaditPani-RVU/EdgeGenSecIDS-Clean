import pandas as pd
import numpy as np
import os
from sklearn.preprocessing import StandardScaler
import joblib

# === Step 1: Load merged dataset ===
DATADIR = r"C:\Users\aadip\Desktop\internship\MachineLearningCSV\MachineLearningCVE"
csv_path = os.path.join(DATADIR, "CICIDS2017_Multiclass_Merged.csv")
df = pd.read_csv(csv_path, low_memory=False)
print(f"✅ Loaded dataset: {df.shape}")

# === Step 2: Clean data ===
df = df.replace([np.inf, -np.inf], np.nan).dropna()

# === Step 3: Remove 'Infiltration' samples (optional) ===
df = df[df[' Label'] != 'Infiltration']

# === Step 4: Map attack categories (same as before) ===
label_mapping = {
    'BENIGN': 'BENIGN',
    'DoS Hulk': 'DoS',
    'DoS GoldenEye': 'DoS',
    'DoS slowloris': 'DoS',
    'DDoS': 'DDoS',
    'PortScan': 'PortScan',
    'FTP-Patator': 'BruteForce',
    'SSH-Patator': 'BruteForce',
    'Web Attack - Brute Force': 'Web Attack',
    'Web Attack - XSS': 'Web Attack',
    'Web Attack - Sql Injection': 'Web Attack',
}
df['AttackCategory'] = df[' Label'].map(label_mapping)
df = df.dropna(subset=['AttackCategory'])

# === Step 5: Feature selection ===
X = df.drop(columns=[' Label', 'AttackCategory'])
X = X.select_dtypes(include=[np.number])

# === Step 6: Fit the scaler ===
scaler = StandardScaler()
X_scaled = scaler.fit_transform(X)

# === Step 7: Save the scaler ===
joblib.dump(scaler, "scaler.pkl")
print("✅ Scaler saved as scaler.pkl")
